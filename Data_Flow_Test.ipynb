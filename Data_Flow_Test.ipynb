{
 "cells": [
  {
   "cell_type": "markdown",
   "id": "7a519737",
   "metadata": {},
   "source": [
    "# Imports"
   ]
  },
  {
   "cell_type": "code",
   "execution_count": 2,
   "id": "60b62292",
   "metadata": {},
   "outputs": [],
   "source": [
    "import streamlit as st\n",
    "import re\n",
    "import pandas as pd\n",
    "from whatstk import df_from_txt_whatsapp\n",
    "from collections import defaultdict"
   ]
  },
  {
   "cell_type": "markdown",
   "id": "82b0ecd9",
   "metadata": {},
   "source": [
    "# Functions Definition"
   ]
  },
  {
   "cell_type": "code",
   "execution_count": 3,
   "id": "1b223c97",
   "metadata": {},
   "outputs": [],
   "source": [
    "def extract_phone_number(message):\n",
    "    pattern = r'91(\\d{10,15})'\n",
    "    match = re.search(pattern, message)\n",
    "    if match:\n",
    "        return match.group(1)\n",
    "    return None\n",
    "\n",
    "def convert_df(df):\n",
    "    # IMPORTANT: Cache the conversion to prevent computation on every rerun\n",
    "    return df.to_csv(index=False).encode(\"utf-8\")\n",
    "\n",
    "def extract_name(message):\n",
    "    pattern = r'@⁨([^⁩]+)⁩'\n",
    "    match = re.search(pattern, message)\n",
    "    if match:\n",
    "        return match.group(1).strip()\n",
    "    return None"
   ]
  },
  {
   "cell_type": "code",
   "execution_count": 16,
   "id": "24be4d8e",
   "metadata": {},
   "outputs": [
    {
     "name": "stderr",
     "output_type": "stream",
     "text": [
      "C:\\Users\\P\\AppData\\Local\\Temp\\ipykernel_12496\\904238115.py:1: FutureWarning:\n",
      "\n",
      "This function is deprecated and will be removed in future versions. Use `df_from_whatsapp` instead.\n",
      "\n"
     ]
    }
   ],
   "source": [
    "df = df_from_txt_whatsapp('chats.txt')"
   ]
  },
  {
   "cell_type": "code",
   "execution_count": 17,
   "id": "c0faf74c",
   "metadata": {},
   "outputs": [],
   "source": [
    "Category = 'Friend'"
   ]
  },
  {
   "cell_type": "code",
   "execution_count": 6,
   "id": "91e6cd94",
   "metadata": {},
   "outputs": [],
   "source": [
    "birthday_dict = defaultdict(set)"
   ]
  },
  {
   "cell_type": "markdown",
   "id": "d38239e2",
   "metadata": {},
   "source": [
    "# Chats Processing"
   ]
  },
  {
   "cell_type": "code",
   "execution_count": 18,
   "id": "2fa1d877",
   "metadata": {},
   "outputs": [],
   "source": [
    "df['Date'] = df['date'].dt.date\n",
    "birthday_rows = df[df['message'].str.contains('Happy Birthday', na=False)]\n",
    "for index, row in birthday_rows.iterrows():\n",
    "    name = extract_name(row['message'])\n",
    "    if name is not None:\n",
    "        birthday_dict[name].add(row['Date'])\n"
   ]
  },
  {
   "cell_type": "markdown",
   "id": "b280b557",
   "metadata": {},
   "source": [
    "# Data post processing"
   ]
  },
  {
   "cell_type": "code",
   "execution_count": 8,
   "id": "cd304103",
   "metadata": {},
   "outputs": [],
   "source": [
    "birthday_df = pd.DataFrame.from_dict(birthday_dict, orient='index')\n",
    "out_df = pd.DataFrame({'Name':birthday_df.index,'Birth date':birthday_df[0]})\n",
    "out_df.reset_index(drop=True, inplace=True)\n",
    "out_df['Category'] = Category\n",
    "out_df.to_csv('out.csv',index=False)"
   ]
  }
 ],
 "metadata": {
  "kernelspec": {
   "display_name": "base",
   "language": "python",
   "name": "python3"
  },
  "language_info": {
   "codemirror_mode": {
    "name": "ipython",
    "version": 3
   },
   "file_extension": ".py",
   "mimetype": "text/x-python",
   "name": "python",
   "nbconvert_exporter": "python",
   "pygments_lexer": "ipython3",
   "version": "3.12.3"
  }
 },
 "nbformat": 4,
 "nbformat_minor": 5
}
